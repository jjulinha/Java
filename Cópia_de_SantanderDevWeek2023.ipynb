{
  "nbformat": 4,
  "nbformat_minor": 0,
  "metadata": {
    "colab": {
      "provenance": [],
      "collapsed_sections": [
        "kNuP0SDUZMBY"
      ],
      "include_colab_link": true
    },
    "kernelspec": {
      "name": "python3",
      "display_name": "Python 3"
    },
    "language_info": {
      "name": "python"
    }
  },
  "cells": [
    {
      "cell_type": "markdown",
      "metadata": {
        "id": "view-in-github",
        "colab_type": "text"
      },
      "source": [
        "<a href=\"https://colab.research.google.com/github/jjulinha/Java/blob/main/C%C3%B3pia_de_SantanderDevWeek2023.ipynb\" target=\"_parent\"><img src=\"https://colab.research.google.com/assets/colab-badge.svg\" alt=\"Open In Colab\"/></a>"
      ]
    },
    {
      "cell_type": "markdown",
      "source": [
        "# Santander Dev Week 2023 (ETL com Python)"
      ],
      "metadata": {
        "id": "BPJQsTCULaC-"
      }
    },
    {
      "cell_type": "markdown",
      "source": [
        "**Contexto:** Você é um cientista de dados no Santander e recebeu a tarefa de envolver seus clientes de maneira mais personalizada. Seu objetivo é usar o poder da IA Generativa para criar mensagens de marketing personalizadas que serão entregues a cada cliente.\n",
        "\n",
        "**Condições do Problema:**\n",
        "\n",
        "1. Você recebeu uma planilha simples, em formato CSV ('SDW2023.csv'), com uma lista de IDs de usuário do banco:\n",
        "  ```\n",
        "  UserID\n",
        "  1\n",
        "  2\n",
        "  3\n",
        "  4\n",
        "  5\n",
        "  ```\n",
        "2. Seu trabalho é consumir o endpoint `GET https://sdw-2023-prd.up.railway.app/users/{id}` (API da Santander Dev Week 2023) para obter os dados de cada cliente.\n",
        "3. Depois de obter os dados dos clientes, você vai usar a API do ChatGPT (OpenAI) para gerar uma mensagem de marketing personalizada para cada cliente. Essa mensagem deve enfatizar a importância dos investimentos.\n",
        "4. Uma vez que a mensagem para cada cliente esteja pronta, você vai enviar essas informações de volta para a API, atualizando a lista de \"news\" de cada usuário usando o endpoint `PUT https://sdw-2023-prd.up.railway.app/users/{id}`.\n",
        "\n"
      ],
      "metadata": {
        "id": "k5fA5OrXt1a3"
      }
    },
    {
      "cell_type": "code",
      "source": [],
      "metadata": {
        "id": "FKqLC_CWoYqR"
      },
      "execution_count": null,
      "outputs": []
    },
    {
      "cell_type": "markdown",
      "source": [
        "## **E**xtract\n",
        "\n",
        "Extraia a lista de IDs de usuário a partir do arquivo CSV. Para cada ID, faça uma requisição GET para obter os dados do usuário correspondente."
      ],
      "metadata": {
        "id": "9dfI-o7gLRq9"
      }
    },
    {
      "cell_type": "code",
      "execution_count": null,
      "metadata": {
        "id": "NYydpX_GLRCB"
      },
      "outputs": [],
      "source": [
        "import pandas as pd\n",
        "\n",
        "df = pd.read_csv('SDW2023.csv')\n",
        "user_ids = df['UserID'].tolist()\n",
        "print(user_ids)"
      ]
    },
    {
      "cell_type": "code",
      "source": [
        "import csv\n",
        "\n",
        "# Nome do arquivo CSV\n",
        "csv_file = 'SDW2023.csv'\n",
        "\n",
        "# Função para buscar e mostrar os dados do usuário com base no ID\n",
        "def get_user_data(user_id):\n",
        "    with open(csv_file, 'r', newline='') as file:\n",
        "        csv_reader = csv.DictReader(file)\n",
        "        for row in csv_reader:\n",
        "            if row['UserID'] == user_id:\n",
        "                user_name = row['Name']\n",
        "                user_access = row['Acesso']\n",
        "                return user_name, user_access\n",
        "    return None, None\n",
        "\n",
        "# Lista de IDs de usuário para buscar\n",
        "user_ids = ['48625', '59843', '15934']  # Substitua pelos IDs que deseja buscar\n",
        "\n",
        "# Para cada ID de usuário, obtenha e mostre os dados\n",
        "for user_id in user_ids:\n",
        "    user_name, user_access = get_user_data(user_id)\n",
        "    if user_name and user_access:\n",
        "        print(f\"ID: {user_id}, Nome: {user_name}, Acesso: {user_access}\")\n",
        "    else:\n",
        "        print(f\"ID: {user_id} não encontrado no arquivo CSV\")\n",
        "\n",
        "# Encerrar o script\n",
        "print(\"Concluído.\")\n"
      ],
      "metadata": {
        "id": "F5XOuCZGSTGw",
        "colab": {
          "base_uri": "https://localhost:8080/"
        },
        "outputId": "5db25c50-9130-479d-8dab-708b53a9039f"
      },
      "execution_count": 1,
      "outputs": [
        {
          "output_type": "stream",
          "name": "stdout",
          "text": [
            "ID: 48625, Nome: fulano silva, Acesso: fulano.silva\n",
            "ID: 59843, Nome: beltrano oliveira, Acesso: beltrano.oliveira\n",
            "ID: 15934, Nome: alguem marques, Acesso: alguem.marques\n",
            "Concluído.\n"
          ]
        }
      ]
    },
    {
      "cell_type": "markdown",
      "source": [
        "## **T**ransform\n",
        "\n",
        "Utilize a API do OpenAI GPT-4 para gerar uma mensagem de marketing personalizada para cada usuário."
      ],
      "metadata": {
        "id": "cWoqInB4TF1x"
      }
    },
    {
      "cell_type": "code",
      "source": [
        "!pip install openai"
      ],
      "metadata": {
        "id": "O--PCAObTQkK"
      },
      "execution_count": null,
      "outputs": []
    },
    {
      "cell_type": "code",
      "source": [],
      "metadata": {
        "id": "sUB1doiDTX3y"
      },
      "execution_count": null,
      "outputs": []
    },
    {
      "cell_type": "code",
      "source": [
        "import csv\n",
        "\n",
        "# Nomes dos arquivos CSV\n",
        "csv_file1 = 'SDW2023.csv'\n",
        "csv_file2 = 'API.csv'\n",
        "\n",
        "# Função para criar um dicionário de usuários a partir de um arquivo CSV\n",
        "def create_user_dict(csv_file):\n",
        "    user_dict = {}\n",
        "    with open(csv_file, 'r', newline='') as file:\n",
        "        csv_reader = csv.DictReader(file)\n",
        "        for row in csv_reader:\n",
        "            user_id = row['UserID']\n",
        "            user_name = row['Name']\n",
        "            user_access = row['Acesso']\n",
        "            user_dict[user_id] = {'Name': user_name, 'Acesso': user_access}\n",
        "    return user_dict\n",
        "\n",
        "# Ler os dados dos dois arquivos CSV\n",
        "user_data1 = create_user_dict(csv_file1)\n",
        "user_data2 = create_user_dict(csv_file2)\n",
        "\n",
        "# Combinar os dados de ambos os arquivos\n",
        "combined_user_data = {**user_data1, **user_data2}\n",
        "\n",
        "# Mostrar os dados combinados\n",
        "for user_id, data in combined_user_data.items():\n",
        "    print(f\"ID: {user_id}, Nome: {data['Name']}, Acesso: {data['Acesso']}\")\n",
        "\n",
        "# Encerrar o script\n",
        "print(\"Concluído.\")\n"
      ],
      "metadata": {
        "id": "n1w78kNxTrZY",
        "colab": {
          "base_uri": "https://localhost:8080/"
        },
        "outputId": "4fbe7809-9c1d-4eae-ff28-7085ba88d1d3"
      },
      "execution_count": 4,
      "outputs": [
        {
          "output_type": "stream",
          "name": "stdout",
          "text": [
            "ID: 48625, Nome: fulano silva, Acesso: fulano.silva\n",
            "ID: 59843, Nome: beltrano oliveira, Acesso: beltrano.oliveira\n",
            "ID: 15934, Nome: alguem marques, Acesso: alguem.marques\n",
            "ID: 35126, Nome: julia, Acesso: julia1\n",
            "ID: 97823, Nome: pedro, Acesso: pedro1\n",
            "ID: 63258, Nome: joao, Acesso: joao1\n",
            "Concluído.\n"
          ]
        }
      ]
    },
    {
      "cell_type": "markdown",
      "source": [
        "## **L**oad\n",
        "\n",
        "Atualize a lista de \"news\" de cada usuário na API com a nova mensagem gerada."
      ],
      "metadata": {
        "id": "kNuP0SDUZMBY"
      }
    },
    {
      "cell_type": "code",
      "source": [
        "import csv\n",
        "\n",
        "# Nomes dos arquivos CSV\n",
        "csv_file1 = 'SDW2023.csv'\n",
        "csv_file2 = 'API.csv'\n",
        "\n",
        "# Função para criar um dicionário de usuários a partir de um arquivo CSV\n",
        "def create_user_dict(csv_file):\n",
        "    user_dict = {}\n",
        "    with open(csv_file, 'r', newline='') as file:\n",
        "        csv_reader = csv.DictReader(file)\n",
        "        for row in csv_reader:\n",
        "            user_id = row['UserID']\n",
        "            user_name = row['Name']\n",
        "            user_access = row['Acesso']\n",
        "            user_dict[user_id] = {'Name': user_name, 'Acesso': user_access}\n",
        "    return user_dict\n",
        "\n",
        "# Ler os dados dos dois arquivos CSV\n",
        "user_data1 = create_user_dict(csv_file1)\n",
        "user_data2 = create_user_dict(csv_file2)\n",
        "\n",
        "# Combinar os dados de ambos os arquivos\n",
        "combined_user_data = {**user_data1, **user_data2}\n",
        "\n",
        "# Gerar mensagens de boas-vindas para cada usuário\n",
        "for user_id, data in combined_user_data.items():\n",
        "    user_name = data['Name']\n",
        "    welcome_message = f\"Bem-vindo, {user_name}! Seu acesso é: {data['Acesso']}\"\n",
        "    print(welcome_message)\n",
        "\n",
        "# Encerrar o script\n",
        "print(\"Concluído.\")\n"
      ],
      "metadata": {
        "id": "YefWfYBoZMN2",
        "colab": {
          "base_uri": "https://localhost:8080/"
        },
        "outputId": "f6e43eec-b742-4145-c5b5-f53a93728dae"
      },
      "execution_count": 6,
      "outputs": [
        {
          "output_type": "stream",
          "name": "stdout",
          "text": [
            "Bem-vindo, fulano silva! Seu acesso é: fulano.silva\n",
            "Bem-vindo, beltrano oliveira! Seu acesso é: beltrano.oliveira\n",
            "Bem-vindo, alguem marques! Seu acesso é: alguem.marques\n",
            "Bem-vindo, julia! Seu acesso é: julia1\n",
            "Bem-vindo, pedro! Seu acesso é: pedro1\n",
            "Bem-vindo, joao! Seu acesso é: joao1\n",
            "Concluído.\n"
          ]
        }
      ]
    }
  ]
}